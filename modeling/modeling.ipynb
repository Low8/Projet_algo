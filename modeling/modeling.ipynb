{
 "cells": [
  {
   "cell_type": "markdown",
   "id": "31124b55",
   "metadata": {},
   "source": [
    "# **Problem modeling**\n",
    "---"
   ]
  },
  {
   "cell_type": "markdown",
   "id": "5727e507",
   "metadata": {},
   "source": [
    "## **Basic version**\n",
    "\n",
    "**Cities graph** characteristics:  \n",
    "- Complete  \n",
    "- N cities  \n",
    "- Weights  \n",
    "\n",
    "##### *Example of Cities graph*  \n",
    "<img src=\"img/basePB_CitiesGraph.png\" width=\"600\" /><br>  \n",
    "*INFO: To simplify the problem we worked with complete graphs, but in real life the graph should be incomplete.*\n",
    "\n",
    "---\n",
    "\n",
    "### **Optimization Problem**\n",
    "\n",
    "**Data** : G = Cities graph  \n",
    "**Problem** : What is the shortest route that passes at least once through each vertex of G?\n",
    "\n",
    "To find if a list S is a potential solution to our problem, we need to try all the possibilities. The algorithm used to find if the solution is correct or not has an O(n!) complexity. So, this problem can't be an NP-complete problem. In reality, it's an NP-HARD problem.\n",
    "\n",
    "That's why we change the problem to a decisional problem to simplify the future algorithms.\n",
    "\n",
    "---\n",
    "\n",
    "### **Decisional Problem**\n",
    "\n",
    "**Data** : G = Cities graph | K = The cost of the trajectory (total weights)  \n",
    "**Problem** : Is there a route that passes at least once through each vertex of G and whose sum of edge weights is at most K?\n",
    "\n",
    "#### Demonstration that our problem is NP\n"
   ]
  },
  {
   "cell_type": "markdown",
   "id": "c87978d4",
   "metadata": {},
   "source": []
  }
 ],
 "metadata": {
  "kernelspec": {
   "display_name": "algo_env",
   "language": "python",
   "name": "python3"
  },
  "language_info": {
   "name": "python",
   "version": "3.13.7"
  }
 },
 "nbformat": 4,
 "nbformat_minor": 5
}
