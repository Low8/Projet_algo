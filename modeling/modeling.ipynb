{
 "cells": [
  {
   "cell_type": "markdown",
   "id": "31124b55",
   "metadata": {},
   "source": [
    "# **Problem modeling**\n",
    "---"
   ]
  },
  {
   "cell_type": "markdown",
   "id": "5727e507",
   "metadata": {},
   "source": [
    "## **Basic version**\n",
    "\n",
    "**Cities graph** characteristics:  \n",
    "- Complete  \n",
    "- N cities  \n",
    "- Weights\n",
    "\n",
    "##### *Example of Cities graph*  \n",
    "<img src=\"img/basePB_CitiesGraph.png\" width=\"600\" /><br>  \n",
    "*INFO: To simplify the problem we worked with complete graphs, but in real life the graph should be incomplete.*\n",
    "\n",
    "---\n",
    "\n",
    "### **Optimization Problem**\n",
    "\n",
    "**Data** : G = Cities graph  \n",
    "**Problem** : What is the shortest route that passes at least once through each vertex of G?\n",
    "\n",
    "To find if a list S is a potential solution to our problem, we need to try all the possibilities. The algorithm used to find if the solution is correct or not has an O(n!) complexity. So, this problem can't be an NP-complete problem. In reality, it's an NP-HARD problem.\n",
    "\n",
    "That's why we change the problem to a decisional problem to simplify the future algorithms.\n",
    "\n",
    "---\n",
    "\n",
    "### **Decisional Problem**\n",
    "\n",
    "**Data** : G = Cities graph | K = The cost of the trajectory (total weights)  \n",
    "**Problem** : Is there a route that passes at least once through each vertex of G and whose sum of edge weights is at most K?\n",
    "\n",
    "#### **Demonstration that our problem is NP**\n",
    "\n",
    "<img src=\"img/BasePB_road.png\" width=\"600\" /><br>\n",
    "\n",
    "If we have a solution to the problem:  \n",
    "**S = [Paris, Lille, Marseille, Strasbourg]** and **K = 1900**\n",
    "\n",
    "To verify whether **S** is a valid solution to our problem, we need to check two conditions:\n",
    "\n",
    "- The **sum of the edges** in the path **S** must be **smaller than or equal to K**:  \n",
    "\n",
    "   $$\n",
    "   \\sum_{(v_i, v_{i+1}) \\in S} \\text{dist}(v_i, v_{i+1}) \\le K\n",
    "   $$\n",
    "\n",
    "   This can be verified in **O(n)** time by traversing the list once.\n",
    "\n",
    "- Each **vertex of the graph** must appear **exactly once** in **S** (no repetition and no omission).  \n",
    "   This can also be verified in **O(n)** time.\n",
    "\n",
    "\n",
    "In this example:\n",
    "\n",
    "- **sum = 1850**, which is smaller than **K = 1900**,  \n",
    "- all the cities in the graph appear in **S**.\n",
    "\n",
    "Therefore, **S** is a valid solution.  \n",
    "We verified this in **polynomial time O(n)**.\n"
   ]
  },
  {
   "cell_type": "markdown",
   "id": "c87978d4",
   "metadata": {},
   "source": []
  }
 ],
 "metadata": {
  "kernelspec": {
   "display_name": "algo_env",
   "language": "python",
   "name": "python3"
  },
  "language_info": {
   "name": "python",
   "version": "3.13.7"
  }
 },
 "nbformat": 4,
 "nbformat_minor": 5
}
